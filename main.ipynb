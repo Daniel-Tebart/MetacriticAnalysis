{
 "cells": [
  {
   "cell_type": "code",
   "execution_count": 6,
   "metadata": {},
   "outputs": [
    {
     "data": {
      "text/html": [
       "<div>\n",
       "<style scoped>\n",
       "    .dataframe tbody tr th:only-of-type {\n",
       "        vertical-align: middle;\n",
       "    }\n",
       "\n",
       "    .dataframe tbody tr th {\n",
       "        vertical-align: top;\n",
       "    }\n",
       "\n",
       "    .dataframe thead th {\n",
       "        text-align: right;\n",
       "    }\n",
       "</style>\n",
       "<table border=\"1\" class=\"dataframe\">\n",
       "  <thead>\n",
       "    <tr style=\"text-align: right;\">\n",
       "      <th></th>\n",
       "      <th>game</th>\n",
       "      <th>platform</th>\n",
       "      <th>developer</th>\n",
       "      <th>genre</th>\n",
       "      <th>number_players</th>\n",
       "      <th>rating</th>\n",
       "      <th>release_date</th>\n",
       "      <th>positive_critics</th>\n",
       "      <th>neutral_critics</th>\n",
       "      <th>negative_critics</th>\n",
       "      <th>positive_users</th>\n",
       "      <th>neutral_users</th>\n",
       "      <th>negative_users</th>\n",
       "      <th>metascore</th>\n",
       "      <th>user_score</th>\n",
       "    </tr>\n",
       "  </thead>\n",
       "  <tbody>\n",
       "    <tr>\n",
       "      <th>0</th>\n",
       "      <td>Portal 2</td>\n",
       "      <td>PC</td>\n",
       "      <td>Valve Software</td>\n",
       "      <td>Action</td>\n",
       "      <td>NaN</td>\n",
       "      <td>E10+</td>\n",
       "      <td>Apr 18, 2011</td>\n",
       "      <td>51</td>\n",
       "      <td>1</td>\n",
       "      <td>0</td>\n",
       "      <td>1700</td>\n",
       "      <td>107</td>\n",
       "      <td>19</td>\n",
       "      <td>95</td>\n",
       "      <td>90</td>\n",
       "    </tr>\n",
       "    <tr>\n",
       "      <th>1</th>\n",
       "      <td>The Elder Scrolls V: Skyrim</td>\n",
       "      <td>PC</td>\n",
       "      <td>Bethesda Game Studios</td>\n",
       "      <td>Role-Playing</td>\n",
       "      <td>No Online Multiplayer</td>\n",
       "      <td>M</td>\n",
       "      <td>Nov 10, 2011</td>\n",
       "      <td>32</td>\n",
       "      <td>0</td>\n",
       "      <td>0</td>\n",
       "      <td>1616</td>\n",
       "      <td>322</td>\n",
       "      <td>451</td>\n",
       "      <td>94</td>\n",
       "      <td>82</td>\n",
       "    </tr>\n",
       "    <tr>\n",
       "      <th>2</th>\n",
       "      <td>The Legend of Zelda: Ocarina of Time 3D</td>\n",
       "      <td>3DS</td>\n",
       "      <td>GREZZO</td>\n",
       "      <td>Miscellaneous</td>\n",
       "      <td>No Online Multiplayer</td>\n",
       "      <td>E10+</td>\n",
       "      <td>Jun 19, 2011</td>\n",
       "      <td>84</td>\n",
       "      <td>1</td>\n",
       "      <td>0</td>\n",
       "      <td>283</td>\n",
       "      <td>20</td>\n",
       "      <td>5</td>\n",
       "      <td>94</td>\n",
       "      <td>90</td>\n",
       "    </tr>\n",
       "    <tr>\n",
       "      <th>3</th>\n",
       "      <td>Batman: Arkham City</td>\n",
       "      <td>PC</td>\n",
       "      <td>Rocksteady Studios</td>\n",
       "      <td>Action Adventure</td>\n",
       "      <td>NaN</td>\n",
       "      <td>T</td>\n",
       "      <td>Nov 21, 2011</td>\n",
       "      <td>27</td>\n",
       "      <td>0</td>\n",
       "      <td>0</td>\n",
       "      <td>240</td>\n",
       "      <td>34</td>\n",
       "      <td>27</td>\n",
       "      <td>91</td>\n",
       "      <td>87</td>\n",
       "    </tr>\n",
       "    <tr>\n",
       "      <th>4</th>\n",
       "      <td>Super Mario 3D Land</td>\n",
       "      <td>3DS</td>\n",
       "      <td>Nintendo</td>\n",
       "      <td>Action</td>\n",
       "      <td>No Online Multiplayer</td>\n",
       "      <td>E</td>\n",
       "      <td>Nov 13, 2011</td>\n",
       "      <td>81</td>\n",
       "      <td>1</td>\n",
       "      <td>0</td>\n",
       "      <td>251</td>\n",
       "      <td>39</td>\n",
       "      <td>11</td>\n",
       "      <td>90</td>\n",
       "      <td>84</td>\n",
       "    </tr>\n",
       "  </tbody>\n",
       "</table>\n",
       "</div>"
      ],
      "text/plain": [
       "                                      game platform              developer  \\\n",
       "0                                 Portal 2       PC         Valve Software   \n",
       "1              The Elder Scrolls V: Skyrim       PC  Bethesda Game Studios   \n",
       "2  The Legend of Zelda: Ocarina of Time 3D      3DS                 GREZZO   \n",
       "3                      Batman: Arkham City       PC     Rocksteady Studios   \n",
       "4                      Super Mario 3D Land      3DS               Nintendo   \n",
       "\n",
       "              genre         number_players rating  release_date  \\\n",
       "0            Action                    NaN   E10+  Apr 18, 2011   \n",
       "1      Role-Playing  No Online Multiplayer      M  Nov 10, 2011   \n",
       "2     Miscellaneous  No Online Multiplayer   E10+  Jun 19, 2011   \n",
       "3  Action Adventure                    NaN      T  Nov 21, 2011   \n",
       "4            Action  No Online Multiplayer      E  Nov 13, 2011   \n",
       "\n",
       "   positive_critics  neutral_critics  negative_critics  positive_users  \\\n",
       "0                51                1                 0            1700   \n",
       "1                32                0                 0            1616   \n",
       "2                84                1                 0             283   \n",
       "3                27                0                 0             240   \n",
       "4                81                1                 0             251   \n",
       "\n",
       "   neutral_users  negative_users  metascore  user_score  \n",
       "0            107              19         95          90  \n",
       "1            322             451         94          82  \n",
       "2             20               5         94          90  \n",
       "3             34              27         91          87  \n",
       "4             39              11         90          84  "
      ]
     },
     "execution_count": 6,
     "metadata": {},
     "output_type": "execute_result"
    }
   ],
   "source": [
    "import pandas as pd\n",
    "\n",
    "file = 'data/metacritic_games.csv'\n",
    "data = pd.read_csv(file)\n",
    "data.head()"
   ]
  },
  {
   "cell_type": "markdown",
   "metadata": {},
   "source": [
    "# Data exploration"
   ]
  },
  {
   "cell_type": "code",
   "execution_count": 16,
   "metadata": {},
   "outputs": [
    {
     "data": {
      "text/plain": [
       "<matplotlib.axes._subplots.AxesSubplot at 0x7ff7a9e4a210>"
      ]
     },
     "execution_count": 16,
     "metadata": {},
     "output_type": "execute_result"
    },
    {
     "data": {
      "image/png": "[encoded data removed]",
      "text/plain": [
       "<Figure size 432x288 with 1 Axes>"
      ]
     },
     "metadata": {
      "needs_background": "light"
     },
     "output_type": "display_data"
    }
   ],
   "source": [
    "import seaborn as sns\n",
    "\n",
    "mscores = data['metascore']\n",
    "uscores = data['user_score']\n",
    "\n",
    "sns.kdeplot(mscores, bw = 2, label = \"Critic scores\")\n",
    "sns.kdeplot(uscores, bw = 2, label = \"User scores\")"
   ]
  },
  {
   "cell_type": "code",
   "execution_count": null,
   "metadata": {},
   "outputs": [],
   "source": []
  }
 ],
 "metadata": {
  "kernelspec": {
   "display_name": "Python 3",
   "language": "python",
   "name": "python3"
  },
  "language_info": {
   "codemirror_mode": {
    "name": "ipython",
    "version": 3
   },
   "file_extension": ".py",
   "mimetype": "text/x-python",
   "name": "python",
   "nbconvert_exporter": "python",
   "pygments_lexer": "ipython3",
   "version": "3.7.6"
  }
 },
 "nbformat": 4,
 "nbformat_minor": 4
}
