{
 "cells": [
  {
   "cell_type": "code",
   "execution_count": 67,
   "metadata": {},
   "outputs": [],
   "source": [
    "import pandas as pd\n",
    "from sklearn.preprocessing import OneHotEncoder\n",
    "\n",
    "file = 'data/metacritic_games.csv'\n",
    "data = pd.read_csv(file)\n",
    "data = data.drop(columns = ['game'])\n",
    "data = data.fillna(0)"
   ]
  },
  {
   "cell_type": "code",
   "execution_count": 68,
   "metadata": {},
   "outputs": [],
   "source": [
    "from datetime import datetime as dt\n",
    "def preproc(data):\n",
    "    \n",
    "    dates_obj = [dt.strptime(d, '%b %d, %Y').date() for d in list(data['release_date'])]\n",
    "    dates_int = [d.toordinal() for d in dates_obj]\n",
    "    data['release_date'] = dates_int\n",
    "    \n",
    "    obj_columns = [\"platform\", \"developer\", \"genre\", \"number_players\", \"rating\"]\n",
    "    data[obj_columns] = data[obj_columns].astype(str)\n",
    "    \n",
    "    return data\n",
    "\n",
    "def encode(X_train_trans, X_test_trans):\n",
    "    X_train_trans = enc.fit_transform(X_train_trans)\n",
    "    X_test_trans = enc.transform(X_test_trans)\n",
    "    \n",
    "    return X_train_trans, X_test_trans"
   ]
  },
  {
   "cell_type": "code",
   "execution_count": 69,
   "metadata": {},
   "outputs": [],
   "source": [
    "import numpy as np\n",
    "from sklearn.linear_model import LinearRegression"
   ]
  },
  {
   "cell_type": "code",
   "execution_count": 70,
   "metadata": {},
   "outputs": [
    {
     "name": "stdout",
     "output_type": "stream",
     "text": [
      "0.766450799277045\n",
      "0.5471383438921464\n",
      "0.5759467626253925\n",
      "0.7929449987142254\n",
      "0.7195641559611623\n"
     ]
    }
   ],
   "source": [
    "from sklearn.model_selection import KFold\n",
    "\n",
    "data = preproc(data)\n",
    "\n",
    "X = data.drop(columns = ['metascore', 'user_score']).to_numpy()\n",
    "y = data['metascore'].to_numpy()\n",
    "\n",
    "kf = KFold(n_splits = 5)\n",
    "for train_index, test_index in kf.split(X):\n",
    "    X_train, X_test = X[train_index], X[test_index]\n",
    "    y_train, y_test = y[train_index], y[test_index]\n",
    "        \n",
    "    X_train_final, X_test_final = encode(X_train, X_test)\n",
    "    \n",
    "    reg = LinearRegression().fit(X_train_final, y_train)\n",
    "    print(reg.score(X_test_final, y_test))"
   ]
  },
  {
   "cell_type": "code",
   "execution_count": null,
   "metadata": {},
   "outputs": [],
   "source": []
  }
 ],
 "metadata": {
  "kernelspec": {
   "display_name": "Python 3",
   "language": "python",
   "name": "python3"
  },
  "language_info": {
   "codemirror_mode": {
    "name": "ipython",
    "version": 3
   },
   "file_extension": ".py",
   "mimetype": "text/x-python",
   "name": "python",
   "nbconvert_exporter": "python",
   "pygments_lexer": "ipython3",
   "version": "3.7.6"
  }
 },
 "nbformat": 4,
 "nbformat_minor": 4
}
